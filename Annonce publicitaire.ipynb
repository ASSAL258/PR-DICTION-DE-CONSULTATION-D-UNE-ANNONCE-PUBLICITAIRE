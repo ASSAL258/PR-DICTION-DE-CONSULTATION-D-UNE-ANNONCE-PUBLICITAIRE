{
 "cells": [
  {
   "cell_type": "markdown",
   "metadata": {},
   "source": [
    "___\n",
    "# Apprentissage par Régression logistique avec Python \n",
    "\n",
    "Pour ce TP, nous nous intéressons au domaine de la publicité où la table de données utilisée est relative à un échantillon d'internautes. Pour chaque internaute, on dispose d'informations sensées expliquer s'il va consulter ou non une annonce publicitaire se trouvant sur le site Web d'une entreprise de ventes en ligne. L'objectif est de créer un modèle permettant de prédire, pour tout nouvel internaute consultant ce site web, s'il va consulter ou non sur une annonce publicitaire en fonction des caractéristiques de cet interneute.\n",
    "\n",
    "Cette table de données (\"Publicités\") contient les caractéristiques suivantes :\n",
    "\n",
    "* 'Duree': la durée en minutes de connexion par jour de l'internaute sur le site web de l'entreprise.\n",
    "* 'Age': l'âge de l'internaute en année.\n",
    "* 'Revenu_moyen': le revenu moyen des résidents de la zone géographique où habite l'internaute.\n",
    "* 'Duree_internet': la durée moyenne par jour de connexion de l'internaute à internet.\n",
    "* 'Titre': le titre de la publicité.\n",
    "* 'Ville': la ville de l'internaute.\n",
    "* 'Genre': l'internaute est un homme ou non (1=homme, 0=femme).\n",
    "* 'Pays': Pays de l'internaute.\n",
    "* 'Heure_clique': l'heure à laquelle l'internaute a consulté sur l'annonce publicitaire ou fermé la fenêtre.\n",
    "* 'Clique': 1 si l'internaute consulte l'annonce publicitaire et 0 sinon\n",
    "\n",
    "1.\tFaites l’étude descriptive des données de la table « Publicites ». Interprétez les résultats obtenus.\n",
    "2.\tFaites l’étude de la dépendance linéaire entre les caractéristiques de la table « Publicites ». Interprétez les résultats obtenus.\n",
    "3.\tTrouver le meilleur modèle de régression permettant de modéliser la variable indiquant si l’internaute clique sur la publicité ou non en fonction ses autres caractéristiques de la table « Publicites ».\n",
    "4.\tCalculer la prédiction de cliquer ou non sur la publicité pour un internaute femme qui s’est connectée 1 heure sur le site web de l’entreprise, âgée de 30 ans, habitant dans une zone géographique dont le revenu moyen est 100000 et dont la durée moyenne par jour de connexion à internet est 1 h 30 minutes. \n"
   ]
  },
  {
   "cell_type": "markdown",
   "metadata": {},
   "source": [
    "### Importation des librairies\n",
    "Pour pouvoir mettre en oeuvre l'apprentissage par régression logistique, nous commencons par l'importation des librairies Python dont on aura besoin.\n",
    "* pandas : c'est la librairie de référence pour la manipulation des tables de données.\n",
    "* numpy  : destinée à manipuler des matrices ou tableaux multidimensionnels ainsi que des fonctions mathématiques opérant sur ces tableaux.\n",
    "* matplotlib.pyplot : Matplotlib est une librairie destinée à tracer et visualiser des données sous formes de graphiques.\n",
    "* seaborn : est une librairie de Data Visualization qui vient s'ajouter à Matplotlib en remplacant certains réglages par défaut et fonctions tout en lui ajoutant de nouvelles fonctionnalités."
   ]
  },
  {
   "cell_type": "code",
   "execution_count": 35,
   "metadata": {},
   "outputs": [],
   "source": [
    "import pandas as pd\n",
    "import numpy as np\n",
    "import matplotlib.pyplot as plt\n",
    "import seaborn as sns\n",
    "%matplotlib inline"
   ]
  },
  {
   "cell_type": "markdown",
   "metadata": {
    "collapsed": true,
    "jupyter": {
     "outputs_hidden": true
    }
   },
   "source": [
    "## Importation et affichage des données de la table"
   ]
  },
  {
   "cell_type": "code",
   "execution_count": 36,
   "metadata": {},
   "outputs": [],
   "source": [
    "# Importation de la table de données\n",
    "\n",
    "Publicite = pd.read_csv('Publicites.csv')"
   ]
  },
  {
   "cell_type": "code",
   "execution_count": 37,
   "metadata": {},
   "outputs": [
    {
     "data": {
      "text/html": [
       "<div>\n",
       "<style scoped>\n",
       "    .dataframe tbody tr th:only-of-type {\n",
       "        vertical-align: middle;\n",
       "    }\n",
       "\n",
       "    .dataframe tbody tr th {\n",
       "        vertical-align: top;\n",
       "    }\n",
       "\n",
       "    .dataframe thead th {\n",
       "        text-align: right;\n",
       "    }\n",
       "</style>\n",
       "<table border=\"1\" class=\"dataframe\">\n",
       "  <thead>\n",
       "    <tr style=\"text-align: right;\">\n",
       "      <th></th>\n",
       "      <th>Duree</th>\n",
       "      <th>Age</th>\n",
       "      <th>Revenu_moyen</th>\n",
       "      <th>Duree_internet</th>\n",
       "      <th>Titre</th>\n",
       "      <th>Ville</th>\n",
       "      <th>Genre</th>\n",
       "      <th>Pays</th>\n",
       "      <th>Heure_clique</th>\n",
       "      <th>Clique</th>\n",
       "    </tr>\n",
       "  </thead>\n",
       "  <tbody>\n",
       "    <tr>\n",
       "      <th>0</th>\n",
       "      <td>68.95</td>\n",
       "      <td>35</td>\n",
       "      <td>61833.90</td>\n",
       "      <td>256.09</td>\n",
       "      <td>Cloned 5thgeneration orchestration</td>\n",
       "      <td>Wrightburgh</td>\n",
       "      <td>0</td>\n",
       "      <td>Tunisia</td>\n",
       "      <td>2016-03-27 00:53:11</td>\n",
       "      <td>0</td>\n",
       "    </tr>\n",
       "    <tr>\n",
       "      <th>1</th>\n",
       "      <td>80.23</td>\n",
       "      <td>31</td>\n",
       "      <td>68441.85</td>\n",
       "      <td>193.77</td>\n",
       "      <td>Monitored national standardization</td>\n",
       "      <td>West Jodi</td>\n",
       "      <td>1</td>\n",
       "      <td>Nauru</td>\n",
       "      <td>2016-04-04 01:39:02</td>\n",
       "      <td>0</td>\n",
       "    </tr>\n",
       "    <tr>\n",
       "      <th>2</th>\n",
       "      <td>69.47</td>\n",
       "      <td>26</td>\n",
       "      <td>59785.94</td>\n",
       "      <td>236.50</td>\n",
       "      <td>Organic bottom-line service-desk</td>\n",
       "      <td>Davidton</td>\n",
       "      <td>0</td>\n",
       "      <td>San Marino</td>\n",
       "      <td>2016-03-13 20:35:42</td>\n",
       "      <td>0</td>\n",
       "    </tr>\n",
       "    <tr>\n",
       "      <th>3</th>\n",
       "      <td>74.15</td>\n",
       "      <td>29</td>\n",
       "      <td>54806.18</td>\n",
       "      <td>245.89</td>\n",
       "      <td>Triple-buffered reciprocal time-frame</td>\n",
       "      <td>West Terrifurt</td>\n",
       "      <td>1</td>\n",
       "      <td>Italy</td>\n",
       "      <td>2016-01-10 02:31:19</td>\n",
       "      <td>0</td>\n",
       "    </tr>\n",
       "    <tr>\n",
       "      <th>4</th>\n",
       "      <td>68.37</td>\n",
       "      <td>35</td>\n",
       "      <td>73889.99</td>\n",
       "      <td>225.58</td>\n",
       "      <td>Robust logistical utilization</td>\n",
       "      <td>South Manuel</td>\n",
       "      <td>0</td>\n",
       "      <td>Iceland</td>\n",
       "      <td>2016-06-03 03:36:18</td>\n",
       "      <td>0</td>\n",
       "    </tr>\n",
       "  </tbody>\n",
       "</table>\n",
       "</div>"
      ],
      "text/plain": [
       "   Duree  Age  Revenu_moyen  Duree_internet  \\\n",
       "0  68.95   35      61833.90          256.09   \n",
       "1  80.23   31      68441.85          193.77   \n",
       "2  69.47   26      59785.94          236.50   \n",
       "3  74.15   29      54806.18          245.89   \n",
       "4  68.37   35      73889.99          225.58   \n",
       "\n",
       "                                   Titre           Ville  Genre        Pays  \\\n",
       "0     Cloned 5thgeneration orchestration     Wrightburgh      0     Tunisia   \n",
       "1     Monitored national standardization       West Jodi      1       Nauru   \n",
       "2       Organic bottom-line service-desk        Davidton      0  San Marino   \n",
       "3  Triple-buffered reciprocal time-frame  West Terrifurt      1       Italy   \n",
       "4          Robust logistical utilization    South Manuel      0     Iceland   \n",
       "\n",
       "          Heure_clique  Clique  \n",
       "0  2016-03-27 00:53:11       0  \n",
       "1  2016-04-04 01:39:02       0  \n",
       "2  2016-03-13 20:35:42       0  \n",
       "3  2016-01-10 02:31:19       0  \n",
       "4  2016-06-03 03:36:18       0  "
      ]
     },
     "execution_count": 37,
     "metadata": {},
     "output_type": "execute_result"
    }
   ],
   "source": [
    "# Affichage des cinq premières lignes de la table de données.\n",
    "\n",
    "Publicite.head()"
   ]
  },
  {
   "cell_type": "markdown",
   "metadata": {},
   "source": [
    "## Etude descriptive des données de la table"
   ]
  },
  {
   "cell_type": "code",
   "execution_count": 38,
   "metadata": {},
   "outputs": [
    {
     "name": "stdout",
     "output_type": "stream",
     "text": [
      "<class 'pandas.core.frame.DataFrame'>\n",
      "RangeIndex: 1000 entries, 0 to 999\n",
      "Data columns (total 10 columns):\n",
      " #   Column          Non-Null Count  Dtype  \n",
      "---  ------          --------------  -----  \n",
      " 0   Duree           1000 non-null   float64\n",
      " 1   Age             1000 non-null   int64  \n",
      " 2   Revenu_moyen    1000 non-null   float64\n",
      " 3   Duree_internet  1000 non-null   float64\n",
      " 4   Titre           1000 non-null   object \n",
      " 5   Ville           1000 non-null   object \n",
      " 6   Genre           1000 non-null   int64  \n",
      " 7   Pays            1000 non-null   object \n",
      " 8   Heure_clique    1000 non-null   object \n",
      " 9   Clique          1000 non-null   int64  \n",
      "dtypes: float64(3), int64(3), object(4)\n",
      "memory usage: 78.3+ KB\n"
     ]
    }
   ],
   "source": [
    "Publicite.info()"
   ]
  },
  {
   "cell_type": "markdown",
   "metadata": {
    "id": "QQr85eMGmy_r"
   },
   "source": [
    "Apparemment, il n'y a pas de valeurs manquantes. Mais les valeurs manquantes peuvent être cachées. L'analyse exploratoire des données nous donnera beaucoup plus d'informations sur les données."
   ]
  },
  {
   "cell_type": "code",
   "execution_count": 39,
   "metadata": {
    "colab": {
     "base_uri": "https://localhost:8080/"
    },
    "executionInfo": {
     "elapsed": 3509,
     "status": "ok",
     "timestamp": 1612283551271,
     "user": {
      "displayName": "J.A DATATECH CONSULTING",
      "photoUrl": "https://lh3.googleusercontent.com/a-/AOh14GhgQFw6oCTxA5tD7aLg_6QwywwJpJW4jyzrUMoVMA=s64",
      "userId": "06410945177748020218"
     },
     "user_tz": -60
    },
    "id": "nCNXDKYJkRk7",
    "outputId": "b200d0c6-25bf-41c0-ab4a-7ffab9e79160"
   },
   "outputs": [
    {
     "data": {
      "text/plain": [
       "Duree              900\n",
       "Age                 43\n",
       "Revenu_moyen      1000\n",
       "Duree_internet     966\n",
       "Titre             1000\n",
       "Ville              969\n",
       "Genre                2\n",
       "Pays               237\n",
       "Heure_clique      1000\n",
       "Clique               2\n",
       "dtype: int64"
      ]
     },
     "execution_count": 39,
     "metadata": {},
     "output_type": "execute_result"
    }
   ],
   "source": [
    "# Nombre de valeurs uniques  par colonne\n",
    "\n",
    "Publicite.nunique()"
   ]
  },
  {
   "cell_type": "markdown",
   "metadata": {
    "id": "wUTl4YeZEREh"
   },
   "source": [
    "## <font color=#3876C2> Analyse exploratoire des données</font> <a name=\"M3\"></a>"
   ]
  },
  {
   "cell_type": "markdown",
   "metadata": {
    "id": "L0H14T5qGPLZ"
   },
   "source": [
    "Commençons notre exploratoire des données en traçant un graphique de visualisation de la distribution de chaque variable."
   ]
  },
  {
   "cell_type": "code",
   "execution_count": 40,
   "metadata": {
    "colab": {
     "base_uri": "https://localhost:8080/"
    },
    "executionInfo": {
     "elapsed": 3469,
     "status": "ok",
     "timestamp": 1612283551272,
     "user": {
      "displayName": "J.A DATATECH CONSULTING",
      "photoUrl": "https://lh3.googleusercontent.com/a-/AOh14GhgQFw6oCTxA5tD7aLg_6QwywwJpJW4jyzrUMoVMA=s64",
      "userId": "06410945177748020218"
     },
     "user_tz": -60
    },
    "id": "q4fFVDJ8bcDD",
    "outputId": "2b86b4da-82ba-490a-d420-25933e68ecb3"
   },
   "outputs": [
    {
     "data": {
      "text/plain": [
       "['Genre', 'Clique']"
      ]
     },
     "execution_count": 40,
     "metadata": {},
     "output_type": "execute_result"
    }
   ],
   "source": [
    "# Variables catégorielles\n",
    "\n",
    "categorical_columns = Publicite.nunique()[Publicite.nunique() < 3].keys().to_list()\n",
    "\n",
    "categorical_columns"
   ]
  },
  {
   "cell_type": "code",
   "execution_count": 44,
   "metadata": {
    "executionInfo": {
     "elapsed": 3441,
     "status": "ok",
     "timestamp": 1612283551274,
     "user": {
      "displayName": "J.A DATATECH CONSULTING",
      "photoUrl": "https://lh3.googleusercontent.com/a-/AOh14GhgQFw6oCTxA5tD7aLg_6QwywwJpJW4jyzrUMoVMA=s64",
      "userId": "06410945177748020218"
     },
     "user_tz": -60
    },
    "id": "TXritRFBYj8O"
   },
   "outputs": [],
   "source": [
    "# Création d'une fonction de construction de graphiques à barres et de manière interactive\n",
    "\n",
    "def bar_plot(a):\n",
    "  Publicite[a].value_counts(normalize = True).plot(kind = 'bar')\n",
    "  plt.ylabel('proportion')\n",
    "  plt.title('Distribution de ' + str(a))\n",
    "  return plt.show()"
   ]
  },
  {
   "cell_type": "code",
   "execution_count": 45,
   "metadata": {},
   "outputs": [
    {
     "data": {
      "image/png": "[encoded data removed]",
      "text/plain": [
       "<Figure size 640x480 with 1 Axes>"
      ]
     },
     "metadata": {},
     "output_type": "display_data"
    }
   ],
   "source": [
    "bar_plot('Clique')"
   ]
  },
  {
   "cell_type": "code",
   "execution_count": 46,
   "metadata": {
    "colab": {
     "base_uri": "https://localhost:8080/",
     "height": 339,
     "referenced_widgets": [
      "8cbea45a48ea4c529b3f73dc2b2954a5",
      "8eb4a66cf9ee4dae80822f8d2fe42c7e",
      "54b5a0fca499448eb49a322a0735f2f1",
      "bbe335deacc6447ba4a503e667afd549",
      "5f7abae2c87d47ef9ac35ffe5634ec78",
      "7925934c44374c94935ceb176e247320",
      "9b9e5ad21a4e44638a864214e5440d32"
     ]
    },
    "executionInfo": {
     "elapsed": 3753,
     "status": "ok",
     "timestamp": 1612283551621,
     "user": {
      "displayName": "J.A DATATECH CONSULTING",
      "photoUrl": "https://lh3.googleusercontent.com/a-/AOh14GhgQFw6oCTxA5tD7aLg_6QwywwJpJW4jyzrUMoVMA=s64",
      "userId": "06410945177748020218"
     },
     "user_tz": -60
    },
    "id": "uJ3q6P8bhU2t",
    "outputId": "069f0fac-acfb-4621-a5d3-e96ae8515d22"
   },
   "outputs": [
    {
     "data": {
      "application/vnd.jupyter.widget-view+json": {
       "model_id": "5f45c0c0af9a4b96a037bcca2d04d3f6",
       "version_major": 2,
       "version_minor": 0
      },
      "text/plain": [
       "interactive(children=(Dropdown(description='a', options=('Genre', 'Clique'), value='Genre'), Output()), _dom_c…"
      ]
     },
     "metadata": {},
     "output_type": "display_data"
    }
   ],
   "source": [
    "#Interact\n",
    "import ipywidgets as widgets\n",
    "from ipywidgets import interact, interactive, fixed, interact_manual\n",
    "\n",
    "interact(bar_plot, a = categorical_columns);"
   ]
  },
  {
   "cell_type": "code",
   "execution_count": 47,
   "metadata": {
    "executionInfo": {
     "elapsed": 3690,
     "status": "ok",
     "timestamp": 1612283551623,
     "user": {
      "displayName": "J.A DATATECH CONSULTING",
      "photoUrl": "https://lh3.googleusercontent.com/a-/AOh14GhgQFw6oCTxA5tD7aLg_6QwywwJpJW4jyzrUMoVMA=s64",
      "userId": "06410945177748020218"
     },
     "user_tz": -60
    },
    "id": "n29msk7rh08p"
   },
   "outputs": [],
   "source": [
    "# Variables quantitatives\n",
    "\n",
    "numerical_columns = ['Duree', 'Age', 'Revenu_moyen', 'Duree_internet']\n",
    "\n",
    "# Création d'une fonction de construction d'histogrammes et de manière interactive\n",
    "\n",
    "def hist_plot(b):\n",
    "  sns.distplot(Publicite[b], kde=False)\n",
    "  plt.title('Histogram de '+str(b))\n",
    "  return plt.show()::"
   ]
  },
  {
   "cell_type": "code",
   "execution_count": 48,
   "metadata": {},
   "outputs": [
    {
     "name": "stderr",
     "output_type": "stream",
     "text": [
      "C:\\Users\\Dell\\AppData\\Local\\Temp\\ipykernel_7216\\2880451436.py:8: UserWarning: \n",
      "\n",
      "`distplot` is a deprecated function and will be removed in seaborn v0.14.0.\n",
      "\n",
      "Please adapt your code to use either `displot` (a figure-level function with\n",
      "similar flexibility) or `histplot` (an axes-level function for histograms).\n",
      "\n",
      "For a guide to updating your code to use the new functions, please see\n",
      "https://gist.github.com/mwaskom/de44147ed2974457ad6372750bbe5751\n",
      "\n",
      "  sns.distplot(Publicite[b], kde=False)\n"
     ]
    },
    {
     "data": {
      "image/png": "[encoded data removed]",
      "text/plain": [
       "<Figure size 640x480 with 1 Axes>"
      ]
     },
     "metadata": {},
     "output_type": "display_data"
    }
   ],
   "source": [
    "hist_plot('Duree')"
   ]
  },
  {
   "cell_type": "code",
   "execution_count": 49,
   "metadata": {
    "colab": {
     "base_uri": "https://localhost:8080/",
     "height": 375,
     "referenced_widgets": [
      "80d46e9818514b87a8c0f37ea82ac737",
      "11b310e93c4d47a9b9de4cd795c447f6",
      "e7eb70f1185246c6a3aa41e34af0c659",
      "ed47a5439fcf430a9b247a8453bbc964",
      "4dafdd4ea55d47b48e921bf476e331dd",
      "5d1d32fc17934e568a7fb9996165e5b3",
      "c1901a70f7404154833d2bd4cd8568bc"
     ]
    },
    "executionInfo": {
     "elapsed": 4109,
     "status": "ok",
     "timestamp": 1612283552085,
     "user": {
      "displayName": "J.A DATATECH CONSULTING",
      "photoUrl": "https://lh3.googleusercontent.com/a-/AOh14GhgQFw6oCTxA5tD7aLg_6QwywwJpJW4jyzrUMoVMA=s64",
      "userId": "06410945177748020218"
     },
     "user_tz": -60
    },
    "id": "MDvZ-f48jSZW",
    "outputId": "030445fe-e975-4ffe-b95e-da81cb4aa0a4"
   },
   "outputs": [
    {
     "data": {
      "application/vnd.jupyter.widget-view+json": {
       "model_id": "b7fbf981aa3d43a28aa61c09149b2348",
       "version_major": 2,
       "version_minor": 0
      },
      "text/plain": [
       "interactive(children=(Dropdown(description='b', options=('Duree', 'Age', 'Revenu_moyen', 'Duree_internet'), va…"
      ]
     },
     "metadata": {},
     "output_type": "display_data"
    }
   ],
   "source": [
    "#Interact\n",
    "\n",
    "interact(hist_plot, b = numerical_columns);"
   ]
  },
  {
   "cell_type": "code",
   "execution_count": 50,
   "metadata": {
    "colab": {
     "base_uri": "https://localhost:8080/"
    },
    "executionInfo": {
     "elapsed": 4064,
     "status": "ok",
     "timestamp": 1612283552087,
     "user": {
      "displayName": "J.A DATATECH CONSULTING",
      "photoUrl": "https://lh3.googleusercontent.com/a-/AOh14GhgQFw6oCTxA5tD7aLg_6QwywwJpJW4jyzrUMoVMA=s64",
      "userId": "06410945177748020218"
     },
     "user_tz": -60
    },
    "id": "vO6gZDAj2hGQ",
    "outputId": "8b588e0d-84e7-4c6b-dcba-f321073abd74"
   },
   "outputs": [
    {
     "data": {
      "text/plain": [
       "0.4791416884125751"
      ]
     },
     "execution_count": 50,
     "metadata": {},
     "output_type": "execute_result"
    }
   ],
   "source": [
    "# Coefficient d'asymétrie de la variable 'Age'\n",
    "\n",
    "Publicite['Age'].skew()\n"
   ]
  },
  {
   "cell_type": "code",
   "execution_count": 51,
   "metadata": {
    "colab": {
     "base_uri": "https://localhost:8080/",
     "height": 300,
     "referenced_widgets": [
      "b9975e35883145e18e60195d00a55866",
      "96c4b871b7c64f6c9e423d5807e11aee",
      "85900cb412864e7d9f79506c8ff1a611",
      "0798f447888447198914c7468274520a",
      "fedb76d9baa44a9eae46b6f46a3b1707",
      "c481f9014d7e489fa4979898b5d5f6e1",
      "b02d5a3d3dbe4542b1c5178d3bd86f4f"
     ]
    },
    "executionInfo": {
     "elapsed": 4023,
     "status": "ok",
     "timestamp": 1612283552089,
     "user": {
      "displayName": "J.A DATATECH CONSULTING",
      "photoUrl": "https://lh3.googleusercontent.com/a-/AOh14GhgQFw6oCTxA5tD7aLg_6QwywwJpJW4jyzrUMoVMA=s64",
      "userId": "06410945177748020218"
     },
     "user_tz": -60
    },
    "id": "IYxXcZmYv0ri",
    "outputId": "ed43eed0-6d29-4743-fba6-e53b83307c19"
   },
   "outputs": [
    {
     "data": {
      "application/vnd.jupyter.widget-view+json": {
       "model_id": "b50e4f5a63d6476a9e6cb838c310ce0e",
       "version_major": 2,
       "version_minor": 0
      },
      "text/plain": [
       "interactive(children=(Dropdown(description='b', options=('Duree', 'Age', 'Revenu_moyen', 'Duree_internet'), va…"
      ]
     },
     "metadata": {},
     "output_type": "display_data"
    }
   ],
   "source": [
    "# Création d'une fonction de construction de boîtes à moustaches et de manière interactive\n",
    "\n",
    "def box_plot(b):\n",
    "  sns.boxplot(y = Publicite[b])\n",
    "  plt.title('Boxplot de ' + str(b))\n",
    "  return plt.show()\n",
    "\n",
    "#Interact\n",
    "\n",
    "interact(box_plot, b = numerical_columns);"
   ]
  },
  {
   "cell_type": "markdown",
   "metadata": {
    "id": "3OY0H43lzOe-"
   },
   "source": [
    "Il existe de nombreuses autres analyses que nous pouvons faire. \n",
    "\n",
    "Passons au résumé statistique. "
   ]
  },
  {
   "cell_type": "code",
   "execution_count": 52,
   "metadata": {},
   "outputs": [
    {
     "data": {
      "text/html": [
       "<div>\n",
       "<style scoped>\n",
       "    .dataframe tbody tr th:only-of-type {\n",
       "        vertical-align: middle;\n",
       "    }\n",
       "\n",
       "    .dataframe tbody tr th {\n",
       "        vertical-align: top;\n",
       "    }\n",
       "\n",
       "    .dataframe thead th {\n",
       "        text-align: right;\n",
       "    }\n",
       "</style>\n",
       "<table border=\"1\" class=\"dataframe\">\n",
       "  <thead>\n",
       "    <tr style=\"text-align: right;\">\n",
       "      <th></th>\n",
       "      <th>Duree</th>\n",
       "      <th>Age</th>\n",
       "      <th>Revenu_moyen</th>\n",
       "      <th>Duree_internet</th>\n",
       "      <th>Genre</th>\n",
       "      <th>Clique</th>\n",
       "    </tr>\n",
       "  </thead>\n",
       "  <tbody>\n",
       "    <tr>\n",
       "      <th>count</th>\n",
       "      <td>1000.000000</td>\n",
       "      <td>1000.000000</td>\n",
       "      <td>1000.000000</td>\n",
       "      <td>1000.000000</td>\n",
       "      <td>1000.000000</td>\n",
       "      <td>1000.00000</td>\n",
       "    </tr>\n",
       "    <tr>\n",
       "      <th>mean</th>\n",
       "      <td>65.000200</td>\n",
       "      <td>36.009000</td>\n",
       "      <td>55000.000080</td>\n",
       "      <td>180.000100</td>\n",
       "      <td>0.481000</td>\n",
       "      <td>0.50000</td>\n",
       "    </tr>\n",
       "    <tr>\n",
       "      <th>std</th>\n",
       "      <td>15.853615</td>\n",
       "      <td>8.785562</td>\n",
       "      <td>13414.634022</td>\n",
       "      <td>43.902339</td>\n",
       "      <td>0.499889</td>\n",
       "      <td>0.50025</td>\n",
       "    </tr>\n",
       "    <tr>\n",
       "      <th>min</th>\n",
       "      <td>32.600000</td>\n",
       "      <td>19.000000</td>\n",
       "      <td>13996.500000</td>\n",
       "      <td>104.780000</td>\n",
       "      <td>0.000000</td>\n",
       "      <td>0.00000</td>\n",
       "    </tr>\n",
       "    <tr>\n",
       "      <th>25%</th>\n",
       "      <td>51.360000</td>\n",
       "      <td>29.000000</td>\n",
       "      <td>47031.802500</td>\n",
       "      <td>138.830000</td>\n",
       "      <td>0.000000</td>\n",
       "      <td>0.00000</td>\n",
       "    </tr>\n",
       "    <tr>\n",
       "      <th>50%</th>\n",
       "      <td>68.215000</td>\n",
       "      <td>35.000000</td>\n",
       "      <td>57012.300000</td>\n",
       "      <td>183.130000</td>\n",
       "      <td>0.000000</td>\n",
       "      <td>0.50000</td>\n",
       "    </tr>\n",
       "    <tr>\n",
       "      <th>75%</th>\n",
       "      <td>78.547500</td>\n",
       "      <td>42.000000</td>\n",
       "      <td>65470.635000</td>\n",
       "      <td>218.792500</td>\n",
       "      <td>1.000000</td>\n",
       "      <td>1.00000</td>\n",
       "    </tr>\n",
       "    <tr>\n",
       "      <th>max</th>\n",
       "      <td>91.430000</td>\n",
       "      <td>61.000000</td>\n",
       "      <td>79484.800000</td>\n",
       "      <td>269.960000</td>\n",
       "      <td>1.000000</td>\n",
       "      <td>1.00000</td>\n",
       "    </tr>\n",
       "  </tbody>\n",
       "</table>\n",
       "</div>"
      ],
      "text/plain": [
       "             Duree          Age  Revenu_moyen  Duree_internet        Genre  \\\n",
       "count  1000.000000  1000.000000   1000.000000     1000.000000  1000.000000   \n",
       "mean     65.000200    36.009000  55000.000080      180.000100     0.481000   \n",
       "std      15.853615     8.785562  13414.634022       43.902339     0.499889   \n",
       "min      32.600000    19.000000  13996.500000      104.780000     0.000000   \n",
       "25%      51.360000    29.000000  47031.802500      138.830000     0.000000   \n",
       "50%      68.215000    35.000000  57012.300000      183.130000     0.000000   \n",
       "75%      78.547500    42.000000  65470.635000      218.792500     1.000000   \n",
       "max      91.430000    61.000000  79484.800000      269.960000     1.000000   \n",
       "\n",
       "           Clique  \n",
       "count  1000.00000  \n",
       "mean      0.50000  \n",
       "std       0.50025  \n",
       "min       0.00000  \n",
       "25%       0.00000  \n",
       "50%       0.50000  \n",
       "75%       1.00000  \n",
       "max       1.00000  "
      ]
     },
     "execution_count": 52,
     "metadata": {},
     "output_type": "execute_result"
    }
   ],
   "source": [
    "Publicite.describe()"
   ]
  },
  {
   "cell_type": "markdown",
   "metadata": {
    "id": "tatRnWxFqYLv"
   },
   "source": [
    "Nous avons une compréhension de la distribution de chaque variable dans notre jeu de données. \n",
    "\n",
    "Maintenant, faisons des analyse bivariées. "
   ]
  },
  {
   "cell_type": "markdown",
   "metadata": {},
   "source": [
    "### Etude de la dépedance entre les variables de la table \"Publicite\""
   ]
  },
  {
   "cell_type": "code",
   "execution_count": 53,
   "metadata": {
    "colab": {
     "base_uri": "https://localhost:8080/",
     "height": 295
    },
    "executionInfo": {
     "elapsed": 4356,
     "status": "ok",
     "timestamp": 1612283552466,
     "user": {
      "displayName": "J.A DATATECH CONSULTING",
      "photoUrl": "https://lh3.googleusercontent.com/a-/AOh14GhgQFw6oCTxA5tD7aLg_6QwywwJpJW4jyzrUMoVMA=s64",
      "userId": "06410945177748020218"
     },
     "user_tz": -60
    },
    "id": "JUGKu3XIq43o",
    "outputId": "a8e97be3-9820-4202-f9dc-e7a75e6d4592"
   },
   "outputs": [
    {
     "data": {
      "image/png": "[encoded data removed]",
      "text/plain": [
       "<Figure size 640x480 with 1 Axes>"
      ]
     },
     "metadata": {},
     "output_type": "display_data"
    }
   ],
   "source": [
    "# Duree VS Clique \n",
    "\n",
    "sns.boxplot(x='Clique', y='Duree', data=Publicite)\n",
    "plt.xlabel(\"L'internaute consulte ou non la publicité \")\n",
    "plt.ylabel('Durée en minutes')\n",
    "plt.title(\"Durée en minutes de connexion de l'internaute sur le site de l'entreprise\")\n",
    "plt.show()"
   ]
  },
  {
   "cell_type": "code",
   "execution_count": 54,
   "metadata": {
    "colab": {
     "base_uri": "https://localhost:8080/",
     "height": 295
    },
    "executionInfo": {
     "elapsed": 4356,
     "status": "ok",
     "timestamp": 1612283552466,
     "user": {
      "displayName": "J.A DATATECH CONSULTING",
      "photoUrl": "https://lh3.googleusercontent.com/a-/AOh14GhgQFw6oCTxA5tD7aLg_6QwywwJpJW4jyzrUMoVMA=s64",
      "userId": "06410945177748020218"
     },
     "user_tz": -60
    },
    "id": "JUGKu3XIq43o",
    "outputId": "a8e97be3-9820-4202-f9dc-e7a75e6d4592"
   },
   "outputs": [
    {
     "data": {
      "image/png": "[encoded data removed]",
      "text/plain": [
       "<Figure size 640x480 with 1 Axes>"
      ]
     },
     "metadata": {},
     "output_type": "display_data"
    }
   ],
   "source": [
    "# Age VS Clique \n",
    "\n",
    "sns.boxplot(x='Clique', y='Age', data=Publicite)\n",
    "plt.xlabel(\"L'internaute consulte ou non la publicité \")\n",
    "plt.ylabel('Age')\n",
    "plt.title(\"Age de l'internaute\")\n",
    "plt.show()"
   ]
  },
  {
   "cell_type": "code",
   "execution_count": 55,
   "metadata": {
    "colab": {
     "base_uri": "https://localhost:8080/",
     "height": 295
    },
    "executionInfo": {
     "elapsed": 4356,
     "status": "ok",
     "timestamp": 1612283552466,
     "user": {
      "displayName": "J.A DATATECH CONSULTING",
      "photoUrl": "https://lh3.googleusercontent.com/a-/AOh14GhgQFw6oCTxA5tD7aLg_6QwywwJpJW4jyzrUMoVMA=s64",
      "userId": "06410945177748020218"
     },
     "user_tz": -60
    },
    "id": "JUGKu3XIq43o",
    "outputId": "a8e97be3-9820-4202-f9dc-e7a75e6d4592"
   },
   "outputs": [
    {
     "data": {
      "image/png": "[encoded data removed]",
      "text/plain": [
       "<Figure size 640x480 with 1 Axes>"
      ]
     },
     "metadata": {},
     "output_type": "display_data"
    }
   ],
   "source": [
    "# Age VS Clique \n",
    "\n",
    "sns.boxplot(x='Clique', y='Revenu_moyen', data=Publicite)\n",
    "plt.xlabel(\"L'internaute consulte ou non la publicité \")\n",
    "plt.ylabel('Revenu moyen')\n",
    "plt.title(\"Revenu moyen des résidents de la zone géographique où habite l'internaute\")\n",
    "plt.show()"
   ]
  },
  {
   "cell_type": "code",
   "execution_count": 56,
   "metadata": {
    "colab": {
     "base_uri": "https://localhost:8080/",
     "height": 295
    },
    "executionInfo": {
     "elapsed": 4356,
     "status": "ok",
     "timestamp": 1612283552466,
     "user": {
      "displayName": "J.A DATATECH CONSULTING",
      "photoUrl": "https://lh3.googleusercontent.com/a-/AOh14GhgQFw6oCTxA5tD7aLg_6QwywwJpJW4jyzrUMoVMA=s64",
      "userId": "06410945177748020218"
     },
     "user_tz": -60
    },
    "id": "JUGKu3XIq43o",
    "outputId": "a8e97be3-9820-4202-f9dc-e7a75e6d4592"
   },
   "outputs": [
    {
     "data": {
      "image/png": "[encoded data removed]",
      "text/plain": [
       "<Figure size 640x480 with 1 Axes>"
      ]
     },
     "metadata": {},
     "output_type": "display_data"
    }
   ],
   "source": [
    "# Duree VS Clique \n",
    "\n",
    "sns.boxplot(x='Clique', y='Duree_internet', data=Publicite)\n",
    "plt.xlabel(\"L'internaute consulte ou non la publicité \")\n",
    "plt.ylabel('Durée en minutes')\n",
    "plt.title(\"Durée en minutes de connexion de l'internaute à internet\")\n",
    "plt.show()"
   ]
  },
  {
   "cell_type": "code",
   "execution_count": 57,
   "metadata": {},
   "outputs": [
    {
     "data": {
      "text/plain": [
       "<seaborn.axisgrid.JointGrid at 0x222b3f525d0>"
      ]
     },
     "execution_count": 57,
     "metadata": {},
     "output_type": "execute_result"
    }
   ],
   "source": [
    "# Graphique représentant le lien entre le revenu moyen et l'âge\n",
    "\n",
    "sns.jointplot(x='Age',y='Revenu_moyen',data=Publicite)"
   ]
  },
  {
   "cell_type": "code",
   "execution_count": 58,
   "metadata": {},
   "outputs": [
    {
     "data": {
      "text/plain": [
       "<seaborn.axisgrid.JointGrid at 0x222b3f52840>"
      ]
     },
     "execution_count": 58,
     "metadata": {},
     "output_type": "execute_result"
    }
   ],
   "source": [
    "# Graphique représentant le lien entre la durée de connexion sur le site web de l'entreprise et l'âge\n",
    "\n",
    "sns.jointplot(x='Age',y='Duree',data=Publicite,color='red')"
   ]
  },
  {
   "cell_type": "code",
   "execution_count": 59,
   "metadata": {
    "scrolled": true
   },
   "outputs": [
    {
     "data": {
      "text/plain": [
       "<seaborn.axisgrid.JointGrid at 0x222b419e660>"
      ]
     },
     "execution_count": 59,
     "metadata": {},
     "output_type": "execute_result"
    }
   ],
   "source": [
    "# Graphique représentant le lien entre la durée de connexion sur le site web et celle de connexion par jour à internet\n",
    "sns.jointplot(x='Age',y='Duree',data=Publicite,color='green')"
   ]
  },
  {
   "cell_type": "markdown",
   "metadata": {},
   "source": [
    "** Finally, create a pairplot with the hue defined by the 'Clicked on Ad' column feature.**"
   ]
  },
  {
   "cell_type": "code",
   "execution_count": 60,
   "metadata": {},
   "outputs": [
    {
     "data": {
      "text/plain": [
       "<seaborn.axisgrid.PairGrid at 0x222b433c650>"
      ]
     },
     "execution_count": 60,
     "metadata": {},
     "output_type": "execute_result"
    }
   ],
   "source": [
    "# Graphique du lien entre les caractéristiques de la table \"Publicite\" et leur distribution observée \n",
    "# pour les interneutes ayant cliqué sur la publicité et ceux n'ayant pas cliqué\n",
    "\n",
    "sns.pairplot(Publicite,hue='Clique',palette='bwr')"
   ]
  },
  {
   "cell_type": "markdown",
   "metadata": {},
   "source": [
    "# Apprentissage par régression logistique \n",
    "\n",
    "Pour ce qui suit, nous allons entraîner notre modèle de régression logistique. Pour cela, nous devrons d'abord diviser nos données en un tableau X contenant les caractéristiquesaîner et un tableau Y contenant la variable cible qui est dans notre cas la colonne 'Clique'. "
   ]
  },
  {
   "cell_type": "code",
   "execution_count": 61,
   "metadata": {},
   "outputs": [],
   "source": [
    "X = Publicite[['Duree', 'Age', 'Revenu_moyen','Duree_internet', 'Genre']]\n",
    "y = Publicite['Clique']"
   ]
  },
  {
   "cell_type": "markdown",
   "metadata": {},
   "source": [
    "**** Echantillons d'Apprentissage et de Test****\n",
    "\n",
    "On va séparer maintenant les données en un échantillon d'apprentissage (80%) et un échantillon de test (20%). Nous allons entraîner le modèle sur l'échantillon d'apprentissage, puis utiliser l'échantillon de test pour évaluer le modèle.\n"
   ]
  },
  {
   "cell_type": "code",
   "execution_count": 21,
   "metadata": {},
   "outputs": [],
   "source": [
    "from sklearn.model_selection import train_test_split"
   ]
  },
  {
   "cell_type": "code",
   "execution_count": 22,
   "metadata": {},
   "outputs": [],
   "source": [
    "X_train, X_test, y_train, y_test = train_test_split(X, y, test_size=0.2, random_state=42)"
   ]
  },
  {
   "cell_type": "markdown",
   "metadata": {},
   "source": [
    "### Elaboration et entrainement du modèle logistique"
   ]
  },
  {
   "cell_type": "code",
   "execution_count": 33,
   "metadata": {},
   "outputs": [],
   "source": [
    "from sklearn.linear_model import LogisticRegression"
   ]
  },
  {
   "cell_type": "code",
   "execution_count": 35,
   "metadata": {},
   "outputs": [
    {
     "name": "stdout",
     "output_type": "stream",
     "text": [
      "0.91\n",
      "LogisticRegression(C=10, max_iter=500, random_state=1000)\n"
     ]
    }
   ],
   "source": [
    "# Détermination des hyperparamètres\n",
    "\n",
    "from sklearn.model_selection import GridSearchCV\n",
    "\n",
    "# Dictionnaire des hyperparamètres\n",
    "\n",
    "param_grid = {'C':[0.001, 0.01, 1, 10, 50, 100, 500]}\n",
    "\n",
    "# Objet GridSearchCV\n",
    "\n",
    "grid_logreg_class = GridSearchCV(estimator=LogisticRegression(random_state=1000, max_iter=500), \n",
    "                                 param_grid=param_grid, \n",
    "                                 scoring='f1', \n",
    "                                 cv=5)\n",
    "\n",
    "# Entraînement de l'algorithme\n",
    "\n",
    "logreg_model = grid_logreg_class.fit(X_train, y_train)\n",
    "\n",
    "# Meilleur score et meilleur hyperparamètre\n",
    "\n",
    "print(round(logreg_model.best_score_, 3))\n",
    "\n",
    "print(logreg_model.best_estimator_)"
   ]
  },
  {
   "cell_type": "code",
   "execution_count": 36,
   "metadata": {},
   "outputs": [
    {
     "data": {
      "text/plain": [
       "LogisticRegression(C=10)"
      ]
     },
     "execution_count": 36,
     "metadata": {},
     "output_type": "execute_result"
    }
   ],
   "source": [
    "logmodel = LogisticRegression(C=10)\n",
    "logmodel.fit(X_train,y_train)"
   ]
  },
  {
   "cell_type": "markdown",
   "metadata": {},
   "source": [
    "# Predictions et Evaluations"
   ]
  },
  {
   "cell_type": "code",
   "execution_count": 25,
   "metadata": {},
   "outputs": [],
   "source": [
    "predictions = logmodel.predict(X_test)"
   ]
  },
  {
   "cell_type": "markdown",
   "metadata": {},
   "source": [
    "**Evaluation de la performance du modèle**\n",
    "\n",
    "**Quelle métrique choisir pour évaluer la performance des modèles ?**\n",
    "\n",
    "Vous devez préalablement comprendre ce qu'on appelle matrice de confusion.\n",
    "\n",
    "![matrix_de_confusion.PNG](data:image/png;base64,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)"
   ]
  },
  {
   "cell_type": "markdown",
   "metadata": {
    "id": "-OpIDY8srBCy"
   },
   "source": [
    "# La matrice de confusion est une matrice carrée qui rapporte le nombre de vrais positifs (*True Positives* ou TP), vrais négatifs (*True Négatives* ou TN), faux positifs (*False Positive* ou FP) et faux négatifs (*False Negatives* ou FN).\n",
    "\n",
    "Dans notre cas, le positif c'est 1 : l'internaute a consulté l'annonce publicitaire et \n",
    "le négatif c'est 0 : l'internaute n'a pas consulté l'annonce publicitaire.\n",
    "\n",
    "* **TP** : l'internaute a consulté l'annonce publicitaire et le modèle prédit qu'il l'a consulté ;\n",
    "\n",
    "* **TN** : l'internaute n'a pas consulté l'annonce publicitaire et le modèle prédit qu'il ne l'a pas consulté.\n",
    "\n",
    "Les 2 cas ci-dessus (TP et TN) sont les bons cas. Mais FP et FN sont les mauvais cas :\n",
    "\n",
    "* **FP** : l'internaute n'a pas consulté l'annonce publicitaire et le modèle prédit qu'il l'a consulté ;\n",
    "\n",
    "* **FN** : l'internaute a consulté l'annonce publicitaire et le modèle prédit qu'il ne l'a consulté."
   ]
  },
  {
   "cell_type": "markdown",
   "metadata": {
    "id": "-OpIDY8srBCy"
   },
   "source": [
    "Les choix de métrique : https://scikit-learn.org/stable/auto_examples/model_selection/plot_precision_recall.html\n",
    "\n",
    "* **accuracy** : La précision globale du modèle (***Accuracy*** en anglais) est la proportion de prévisions correctes, c'est-à-dire la somme du nombre de vrais négatifs et de vrais positifs divisée par le nombre total des observations. Elles se calcule donc par la formule ci-dessous : \n",
    "\n",
    "$$Accuracy = \\frac{TN + TP}{(TN + FN + FP + TP}$$\n",
    "\n",
    "Il faut faire attention à la précision globale. Une forte précision globale ne signifie pas forcément que le modèle est performant. Le choix de la métrique pour quantifier la performance du modèle doit se faire en fonction du contexte de l'étude, c'est-à-dire de la problématique qu'on veut résoudre.\n",
    "\n",
    "Lorsqu'il y a un problème de déséquilibre de classe, la précision globale n'est pas une bonne métrique d'évaluation de la performance du modèle.\n",
    "\n",
    "*precision* et *recall* sont des métriques très utilisées surtout lorsque les classes de la variable cible sont très déséquilibrées.\n",
    "\n",
    "* **precision** : La précision est l'indicateur qui vous indique, sur tous les points positifs prédits, combien étaient de vrais positifs. \n",
    "\n",
    "$$Precision = \\frac{TP}{(TP + FP)}$$\n",
    "\n",
    "\n",
    "* **recall** : cette métrique montre la capacité du modèle à identifier tous les vrais positifs. \n",
    "\n",
    "$$Recall = \\frac{TP}{(TP + FN)}$$\n",
    "\n",
    "\n",
    "L'amélioration de *precision* diminue *recall* et vice-versa. Alors que faire ? \n",
    "\n",
    "Fort heureusement, il y a une métrique qui contient à la fois la sensibilité et la spécificité. C'est le F1 score.\n",
    "\n",
    "* **F1 score** : Moyenne harmonique de ***precision*** et de ***recall***. Elle se calcule donc par la formule : $$F1 score = 2 * \\frac{precision * recall}{precision + recall}$$\n",
    "\n",
    "Pour un modèle parfait, f1 score est égal à 1 et la plus mauvaise performance est un modèle avec un f1 score égal à O.\n",
    "\n",
    "Nous choississons le F1 score pour évaluer la performance de chaque modèle qui sera construit."
   ]
  },
  {
   "cell_type": "code",
   "execution_count": 26,
   "metadata": {},
   "outputs": [],
   "source": [
    "from sklearn.metrics import classification_report"
   ]
  },
  {
   "cell_type": "code",
   "execution_count": 27,
   "metadata": {},
   "outputs": [
    {
     "name": "stdout",
     "output_type": "stream",
     "text": [
      "              precision    recall  f1-score   support\n",
      "\n",
      "           0       0.84      0.96      0.89        89\n",
      "           1       0.96      0.86      0.90       111\n",
      "\n",
      "    accuracy                           0.90       200\n",
      "   macro avg       0.90      0.91      0.90       200\n",
      "weighted avg       0.91      0.90      0.90       200\n",
      "\n"
     ]
    }
   ],
   "source": [
    "print(classification_report(y_test,predictions))"
   ]
  },
  {
   "cell_type": "markdown",
   "metadata": {},
   "source": [
    "**Prédiction pour un nouvel interneute**"
   ]
  },
  {
   "cell_type": "code",
   "execution_count": 28,
   "metadata": {},
   "outputs": [],
   "source": [
    "## Prédiction pour une nouvelle entrée de ['Duree', 'Age', 'Revenu_moyen','Duree_internet', 'Genre']\n",
    "x_new = np.array([[60, 30, 100000, 210,0]])\n"
   ]
  },
  {
   "cell_type": "code",
   "execution_count": 29,
   "metadata": {},
   "outputs": [
    {
     "name": "stdout",
     "output_type": "stream",
     "text": [
      "[[    60     30 100000    210      0]]\n"
     ]
    }
   ],
   "source": [
    "print(x_new)"
   ]
  },
  {
   "cell_type": "code",
   "execution_count": 30,
   "metadata": {},
   "outputs": [
    {
     "name": "stdout",
     "output_type": "stream",
     "text": [
      "[0]\n"
     ]
    }
   ],
   "source": [
    "Clique_pred = logmodel.predict(x_new)\n",
    "print(Clique_pred)"
   ]
  },
  {
   "cell_type": "markdown",
   "metadata": {},
   "source": [
    "tester si les données sont linéairement séparable"
   ]
  },
  {
   "cell_type": "code",
   "execution_count": null,
   "metadata": {},
   "outputs": [],
   "source": [
    "# Détermination des hyperparamètres pour LDA\n",
    "\n",
    "from sklearn.model_selection import GridSearchCV\n",
    "from sklearn.discriminant_analysis import LinearDiscriminantAnalysis\n",
    "\n",
    "# Dictionnaire des hyperparamètres\n",
    "param_grid_lda = {'solver': ['svd', 'lsqr', 'eigen']}\n",
    "\n",
    "# Objet GridSearchCV\n",
    "grid_lda = GridSearchCV(\n",
    "    estimator=LinearDiscriminantAnalysis(),\n",
    "    param_grid=param_grid_lda,\n",
    "    scoring='f1',\n",
    "    cv=5\n",
    ")\n",
    "\n",
    "# Entraînement de l'algorithme\n",
    "lda_model = grid_lda.fit(X_train, y_train)\n",
    "\n",
    "# Meilleur score et meilleur hyperparamètre\n",
    "print(\"Meilleur score (F1):\", round(lda_model.best_score_, 3))\n",
    "print(\"Meilleur modèle:\", lda_model.best_estimator_)"
   ]
  },
  {
   "cell_type": "code",
   "execution_count": null,
   "metadata": {},
   "outputs": [],
   "source": [
    "# Entraînement du modèle avec le meilleur hyperparamètre\n",
    "best_solver = lda_model.best_estimator_.solver\n",
    "final_lda_model = LinearDiscriminantAnalysis(solver=best_solver)\n",
    "final_lda_model.fit(X_train, y_train)"
   ]
  },
  {
   "cell_type": "code",
   "execution_count": null,
   "metadata": {},
   "outputs": [],
   "source": [
    "print(classification_report(y_test,predictions))"
   ]
  },
  {
   "cell_type": "code",
   "execution_count": null,
   "metadata": {},
   "outputs": [],
   "source": [
    "# Détermination des hyperparamètres pour QDA\n",
    "\n",
    "from sklearn.model_selection import GridSearchCV\n",
    "from sklearn.discriminant_analysis import QuadraticDiscriminantAnalysis\n",
    "\n",
    "# Dictionnaire des hyperparamètres\n",
    "param_grid_qda = {'reg_param': [0.0, 0.1, 0.2, 0.5, 0.7, 1.0]}\n",
    "\n",
    "# Objet GridSearchCV\n",
    "grid_qda = GridSearchCV(\n",
    "    estimator=QuadraticDiscriminantAnalysis(),\n",
    "    param_grid=param_grid_qda,\n",
    "    scoring='f1',\n",
    "    cv=5\n",
    ")\n",
    "\n",
    "# Entraînement de l'algorithme\n",
    "qda_model = grid_qda.fit(X_train, y_train)\n",
    "\n",
    "# Meilleur score et meilleur hyperparamètre\n",
    "print(\"Meilleur score (F1):\", round(qda_model.best_score_, 3))\n",
    "print(\"Meilleur modèle:\", qda_model.best_estimator_)"
   ]
  },
  {
   "cell_type": "code",
   "execution_count": null,
   "metadata": {},
   "outputs": [],
   "source": [
    "# Entraînement du modèle avec le meilleur hyperparamètre\n",
    "best_reg_param = qda_model.best_estimator_.reg_param\n",
    "final_qda_model = QuadraticDiscriminantAnalysis(reg_param=best_reg_param)\n",
    "final_qda_model.fit(X_train, y_train)"
   ]
  },
  {
   "cell_type": "code",
   "execution_count": null,
   "metadata": {},
   "outputs": [],
   "source": [
    "print(classification_report(y_test,predictions))"
   ]
  },
  {
   "cell_type": "code",
   "execution_count": null,
   "metadata": {},
   "outputs": [],
   "source": [
    "# Détermination des hyperparamètres pour SVM\n",
    "\n",
    "from sklearn.model_selection import GridSearchCV\n",
    "from sklearn.svm import SVC\n",
    "\n",
    "# Dictionnaire des hyperparamètres\n",
    "param_grid_svm = {\n",
    "    'C': [0.1, 1, 10, 100],\n",
    "    'kernel': ['linear', 'rbf', 'poly', 'sigmoid'],\n",
    "    'gamma': ['scale', 'auto']\n",
    "}\n",
    "\n",
    "# Objet GridSearchCV\n",
    "grid_svm = GridSearchCV(\n",
    "    estimator=SVC(),\n",
    "    param_grid=param_grid_svm,\n",
    "    scoring='f1',\n",
    "    cv=5\n",
    ")\n",
    "\n",
    "# Entraînement de l'algorithme\n",
    "svm_model = grid_svm.fit(X_train, y_train)\n",
    "\n",
    "# Meilleur score et meilleur hyperparamètre\n",
    "print(\"Meilleur score (F1):\", round(svm_model.best_score_, 3))\n",
    "print(\"Meilleur modèle:\", svm_model.best_estimator_)"
   ]
  },
  {
   "cell_type": "code",
   "execution_count": null,
   "metadata": {},
   "outputs": [],
   "source": [
    "# Entraînement du modèle avec les meilleurs hyperparamètres\n",
    "best_params = svm_model.best_params_\n",
    "final_svm_model = SVC(C=best_params['C'], kernel=best_params['kernel'], gamma=best_params['gamma'])\n",
    "final_svm_model.fit(X_train, y_train)"
   ]
  },
  {
   "cell_type": "code",
   "execution_count": null,
   "metadata": {},
   "outputs": [],
   "source": [
    "print(classification_report(y_test,predictions))"
   ]
  }
 ],
 "metadata": {
  "kernelspec": {
   "display_name": "Python 3 (ipykernel)",
   "language": "python",
   "name": "python3"
  },
  "language_info": {
   "codemirror_mode": {
    "name": "ipython",
    "version": 3
   },
   "file_extension": ".py",
   "mimetype": "text/x-python",
   "name": "python",
   "nbconvert_exporter": "python",
   "pygments_lexer": "ipython3",
   "version": "3.12.7"
  }
 },
 "nbformat": 4,
 "nbformat_minor": 4
}
